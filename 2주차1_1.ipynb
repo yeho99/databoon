{
  "nbformat": 4,
  "nbformat_minor": 0,
  "metadata": {
    "colab": {
      "provenance": [],
      "authorship_tag": "ABX9TyMsQD/npPvrIZ2cU3D1Opd5",
      "include_colab_link": true
    },
    "kernelspec": {
      "name": "python3",
      "display_name": "Python 3"
    },
    "language_info": {
      "name": "python"
    }
  },
  "cells": [
    {
      "cell_type": "markdown",
      "metadata": {
        "id": "view-in-github",
        "colab_type": "text"
      },
      "source": [
        "<a href=\"https://colab.research.google.com/github/yeho99/databoon/blob/main/2%EC%A3%BC%EC%B0%A81_1.ipynb\" target=\"_parent\"><img src=\"https://colab.research.google.com/assets/colab-badge.svg\" alt=\"Open In Colab\"/></a>"
      ]
    },
    {
      "cell_type": "markdown",
      "source": [
        "#1.1 사이킷런"
      ],
      "metadata": {
        "id": "Ljcdxb7NKZw_"
      }
    },
    {
      "cell_type": "markdown",
      "source": [
        "###분류 알고리즘은 classifier, 회귀 알고리즘은 regressor"
      ],
      "metadata": {
        "id": "9rmLwh8QK8Yh"
      }
    },
    {
      "cell_type": "markdown",
      "source": [
        "###Supervised Machine Learning\n",
        "randomforestclassifer를 주로 사용, x_train, y_train/x_test, y_test"
      ],
      "metadata": {
        "id": "oZvs2CdQMR3M"
      }
    },
    {
      "cell_type": "markdown",
      "source": [
        "###Unsupervised Machine Learning\n",
        "pca를 주로 사용\n",
        "\n",
        "이거를 supervised에 피처로 사용하기도"
      ],
      "metadata": {
        "id": "RoNhtPmQNOUC"
      }
    },
    {
      "cell_type": "markdown",
      "source": [
        "###테스트기법\n",
        "cross-validation-폴드를 나눈후 교차검증, 최적의 파라미터 값 구하기\n",
        "\n",
        "이떄 grid-search를 하기도 함"
      ],
      "metadata": {
        "id": "iNaYZJXlOHE5"
      }
    },
    {
      "cell_type": "markdown",
      "source": [
        "###우리가 주로 사용할 모델은 Tree-Based model(ex. random forest)"
      ],
      "metadata": {
        "id": "nj0IHtmJPgru"
      }
    },
    {
      "cell_type": "code",
      "source": [],
      "metadata": {
        "id": "lxR3xcFKKgI6"
      },
      "execution_count": null,
      "outputs": []
    },
    {
      "cell_type": "code",
      "execution_count": null,
      "metadata": {
        "id": "HXXM0AoAKEEW"
      },
      "outputs": [],
      "source": []
    }
  ]
}